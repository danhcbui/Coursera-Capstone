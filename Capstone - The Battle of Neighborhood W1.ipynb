{
    "nbformat_minor": 1, 
    "cells": [
        {
            "source": "# For this week, you will required to submit the following:\n\n## A description of the problem and a discussion of the background. (15 marks)\n\n### Back Ground: Opening a shop in Toronto, Canada\n### Problem: They will need a location that is safe, located with area that have a lot of clothing stores near by. \n\n\n## A description of the data and how it will be used to solve the problem. (15 marks)\n### List of neighborhood in Toronto (will use the previous data from week 3)\n### Crime Data in Toronto https://opendata.arcgis.com/datasets/a5c96cea73974de0b25b20240e55f20b_0.geojson\n### Consider using FourSquare location data to located areas with shoping centers", 
            "cell_type": "markdown", 
            "metadata": {
                "collapsed": true
            }
        }, 
        {
            "execution_count": null, 
            "cell_type": "code", 
            "metadata": {}, 
            "outputs": [], 
            "source": ""
        }
    ], 
    "metadata": {
        "kernelspec": {
            "display_name": "Python 3.6", 
            "name": "python3", 
            "language": "python"
        }, 
        "language_info": {
            "mimetype": "text/x-python", 
            "nbconvert_exporter": "python", 
            "version": "3.6.8", 
            "name": "python", 
            "file_extension": ".py", 
            "pygments_lexer": "ipython3", 
            "codemirror_mode": {
                "version": 3, 
                "name": "ipython"
            }
        }
    }, 
    "nbformat": 4
}