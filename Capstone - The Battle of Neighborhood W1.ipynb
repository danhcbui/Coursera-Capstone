{
    "nbformat_minor": 1, 
    "cells": [
        {
            "source": "## For this week, you will required to submit the following:\n\n\n### A description of the problem and a discussion of the background. (15 marks)\n\n\nIn this project we will try to find an optimal location for shoping store. Specifically, this report will be targeted to stakeholders interested in opening an **Clothing Store** in **Toronto**, Canada.\n\nSince there are lots of shopping center in Toronto we will try to detect **locations that are not already crowded with shopping stores**. We are also particularly interested in **crime in the neighborhood**. We would also prefer locations **as close to city center as possible**, assuming that first two conditions are met.\n\nWe will use our data science powers to generate a few most promissing neighborhoods based on this criteria. Advantages of each area will then be clearly expressed so that best possible final location can be chosen by stakeholders.\n\n\n### A description of the data and how it will be used to solve the problem. (15 marks)\n\n\nBased on definition of our problem, factors that will influence our decission are:\n* number of existing shopping centers in the neighborhood (any type of restaurant)\n* number of and distance to shopping center in the neighborhood, if any\n* distance of neighborhood from city center\n* crime rate (robery) of the neighborhood\n\nWe decided to use regularly spaced grid of locations, centered around city center, to define our neighborhoods.\n\nFollowing data sources will be needed to extract/generate the required information:\n* List of neighborhood in Toronto (will use the previous data from week 3)\n* number of shops and their type and location in every neighborhood will be obtained using **Foursquare API**\n* Crime Data in Toronto https://opendata.arcgis.com/datasets/a5c96cea73974de0b25b20240e55f20b_0.geojson", 
            "cell_type": "markdown", 
            "metadata": {
                "collapsed": true
            }
        }, 
        {
            "execution_count": null, 
            "cell_type": "code", 
            "metadata": {}, 
            "outputs": [], 
            "source": ""
        }
    ], 
    "metadata": {
        "kernelspec": {
            "display_name": "Python 3.6", 
            "name": "python3", 
            "language": "python"
        }, 
        "language_info": {
            "mimetype": "text/x-python", 
            "nbconvert_exporter": "python", 
            "version": "3.6.8", 
            "name": "python", 
            "file_extension": ".py", 
            "pygments_lexer": "ipython3", 
            "codemirror_mode": {
                "version": 3, 
                "name": "ipython"
            }
        }
    }, 
    "nbformat": 4
}